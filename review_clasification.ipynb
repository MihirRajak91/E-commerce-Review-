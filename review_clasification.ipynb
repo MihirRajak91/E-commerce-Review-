{
 "cells": [
  {
   "cell_type": "markdown",
   "id": "cda45244",
   "metadata": {},
   "source": [
    "# Importing Pacakages"
   ]
  },
  {
   "cell_type": "code",
   "execution_count": 1,
   "id": "5429d66d",
   "metadata": {
    "scrolled": true
   },
   "outputs": [
    {
     "name": "stderr",
     "output_type": "stream",
     "text": [
      "[nltk_data] Error loading punkt: <urlopen error [Errno 11001]\n",
      "[nltk_data]     getaddrinfo failed>\n",
      "[nltk_data] Error loading stopwords: <urlopen error [Errno 11001]\n",
      "[nltk_data]     getaddrinfo failed>\n"
     ]
    }
   ],
   "source": [
    "import numpy as np\n",
    "import pandas as pd\n",
    "import re,string\n",
    "import matplotlib.pyplot as plt\n",
    "from nltk.tokenize import word_tokenize\n",
    "from nltk.corpus import stopwords\n",
    "from nltk.stem import PorterStemmer\n",
    "from sklearn.feature_extraction.text import TfidfVectorizer\n",
    "from sklearn.pipeline import Pipeline\n",
    "from sklearn.metrics import classification_report, confusion_matrix\n",
    "from sklearn.model_selection import train_test_split\n",
    "from sklearn.feature_selection import SelectKBest, chi2\n",
    "import pickle\n",
    "import nltk\n",
    "nltk.download('punkt')\n",
    "nltk.download('stopwords')\n",
    "%matplotlib inline"
   ]
  },
  {
   "cell_type": "markdown",
   "id": "f4b8df8c",
   "metadata": {},
   "source": [
    "# Reading data"
   ]
  },
  {
   "cell_type": "code",
   "execution_count": null,
   "id": "4ee0bb55",
   "metadata": {},
   "outputs": [],
   "source": []
  },
  {
   "cell_type": "code",
   "execution_count": 4,
   "id": "ec07dbaf",
   "metadata": {
    "scrolled": true
   },
   "outputs": [
    {
     "data": {
      "text/html": [
       "<div>\n",
       "<style scoped>\n",
       "    .dataframe tbody tr th:only-of-type {\n",
       "        vertical-align: middle;\n",
       "    }\n",
       "\n",
       "    .dataframe tbody tr th {\n",
       "        vertical-align: top;\n",
       "    }\n",
       "\n",
       "    .dataframe thead th {\n",
       "        text-align: right;\n",
       "    }\n",
       "</style>\n",
       "<table border=\"1\" class=\"dataframe\">\n",
       "  <thead>\n",
       "    <tr style=\"text-align: right;\">\n",
       "      <th></th>\n",
       "      <th>2</th>\n",
       "      <th>Stuning even for the non-gamer</th>\n",
       "      <th>This sound track was beautiful! It paints the senery in your mind so well I would recomend it even to people who hate vid. game music! I have played the game Chrono Cross but out of all of the games I have ever played it has the best music! It backs away from crude keyboarding and takes a fresher step with grate guitars and soulful orchestras. It would impress anyone who cares to listen! ^_^</th>\n",
       "    </tr>\n",
       "  </thead>\n",
       "  <tbody>\n",
       "    <tr>\n",
       "      <th>2800950</th>\n",
       "      <td>2</td>\n",
       "      <td>Very Cool Watch</td>\n",
       "      <td>I didn't know how to set the watch when I got ...</td>\n",
       "    </tr>\n",
       "    <tr>\n",
       "      <th>694253</th>\n",
       "      <td>1</td>\n",
       "      <td>not as rigorous</td>\n",
       "      <td>I was a little disappointed in the intensity o...</td>\n",
       "    </tr>\n",
       "    <tr>\n",
       "      <th>1093492</th>\n",
       "      <td>2</td>\n",
       "      <td>The DCC1200 makes a great cup of coffee!</td>\n",
       "      <td>I had the cuisinart grind and brew. Did not li...</td>\n",
       "    </tr>\n",
       "    <tr>\n",
       "      <th>1764000</th>\n",
       "      <td>2</td>\n",
       "      <td>Just as promised - even my jerk of a cat could...</td>\n",
       "      <td>I searched amazon.com and ended up selecting t...</td>\n",
       "    </tr>\n",
       "    <tr>\n",
       "      <th>1080476</th>\n",
       "      <td>2</td>\n",
       "      <td>better than first Polyphonica</td>\n",
       "      <td>This takes place before the first Polyphonica ...</td>\n",
       "    </tr>\n",
       "    <tr>\n",
       "      <th>...</th>\n",
       "      <td>...</td>\n",
       "      <td>...</td>\n",
       "      <td>...</td>\n",
       "    </tr>\n",
       "    <tr>\n",
       "      <th>1483639</th>\n",
       "      <td>2</td>\n",
       "      <td>where the red fern grows</td>\n",
       "      <td>I think that this is a great book!It is a book...</td>\n",
       "    </tr>\n",
       "    <tr>\n",
       "      <th>3228430</th>\n",
       "      <td>2</td>\n",
       "      <td>Ah, nostalgia!</td>\n",
       "      <td>Okay, this game isn't very pretty, nor is it a...</td>\n",
       "    </tr>\n",
       "    <tr>\n",
       "      <th>1512169</th>\n",
       "      <td>2</td>\n",
       "      <td>Architecture In Helsinki pushes the musical bo...</td>\n",
       "      <td>It's hard to describe this album since there a...</td>\n",
       "    </tr>\n",
       "    <tr>\n",
       "      <th>2573872</th>\n",
       "      <td>1</td>\n",
       "      <td>Please don't waste your money!</td>\n",
       "      <td>I bought this last year at a Whole Foods store...</td>\n",
       "    </tr>\n",
       "    <tr>\n",
       "      <th>3206041</th>\n",
       "      <td>1</td>\n",
       "      <td>Written by a child for children; hopefully the</td>\n",
       "      <td>title, 'Who Few Remain' is indicative of the b...</td>\n",
       "    </tr>\n",
       "  </tbody>\n",
       "</table>\n",
       "<p>3599999 rows × 3 columns</p>\n",
       "</div>"
      ],
      "text/plain": [
       "         2                     Stuning even for the non-gamer  \\\n",
       "2800950  2                                    Very Cool Watch   \n",
       "694253   1                                    not as rigorous   \n",
       "1093492  2           The DCC1200 makes a great cup of coffee!   \n",
       "1764000  2  Just as promised - even my jerk of a cat could...   \n",
       "1080476  2                      better than first Polyphonica   \n",
       "...     ..                                                ...   \n",
       "1483639  2                           where the red fern grows   \n",
       "3228430  2                                     Ah, nostalgia!   \n",
       "1512169  2  Architecture In Helsinki pushes the musical bo...   \n",
       "2573872  1                     Please don't waste your money!   \n",
       "3206041  1     Written by a child for children; hopefully the   \n",
       "\n",
       "        This sound track was beautiful! It paints the senery in your mind so well I would recomend it even to people who hate vid. game music! I have played the game Chrono Cross but out of all of the games I have ever played it has the best music! It backs away from crude keyboarding and takes a fresher step with grate guitars and soulful orchestras. It would impress anyone who cares to listen! ^_^  \n",
       "2800950  I didn't know how to set the watch when I got ...                                                                                                                                                                                                                                                                                                                                                          \n",
       "694253   I was a little disappointed in the intensity o...                                                                                                                                                                                                                                                                                                                                                          \n",
       "1093492  I had the cuisinart grind and brew. Did not li...                                                                                                                                                                                                                                                                                                                                                          \n",
       "1764000  I searched amazon.com and ended up selecting t...                                                                                                                                                                                                                                                                                                                                                          \n",
       "1080476  This takes place before the first Polyphonica ...                                                                                                                                                                                                                                                                                                                                                          \n",
       "...                                                    ...                                                                                                                                                                                                                                                                                                                                                          \n",
       "1483639  I think that this is a great book!It is a book...                                                                                                                                                                                                                                                                                                                                                          \n",
       "3228430  Okay, this game isn't very pretty, nor is it a...                                                                                                                                                                                                                                                                                                                                                          \n",
       "1512169  It's hard to describe this album since there a...                                                                                                                                                                                                                                                                                                                                                          \n",
       "2573872  I bought this last year at a Whole Foods store...                                                                                                                                                                                                                                                                                                                                                          \n",
       "3206041  title, 'Who Few Remain' is indicative of the b...                                                                                                                                                                                                                                                                                                                                                          \n",
       "\n",
       "[3599999 rows x 3 columns]"
      ]
     },
     "execution_count": 4,
     "metadata": {},
     "output_type": "execute_result"
    }
   ],
   "source": [
    "df = pd.read_csv('train.csv')\n",
    "df = df.sample(frac = 1)\n",
    "df"
   ]
  },
  {
   "cell_type": "code",
   "execution_count": 5,
   "id": "b2c13430",
   "metadata": {},
   "outputs": [
    {
     "data": {
      "text/html": [
       "<div>\n",
       "<style scoped>\n",
       "    .dataframe tbody tr th:only-of-type {\n",
       "        vertical-align: middle;\n",
       "    }\n",
       "\n",
       "    .dataframe tbody tr th {\n",
       "        vertical-align: top;\n",
       "    }\n",
       "\n",
       "    .dataframe thead th {\n",
       "        text-align: right;\n",
       "    }\n",
       "</style>\n",
       "<table border=\"1\" class=\"dataframe\">\n",
       "  <thead>\n",
       "    <tr style=\"text-align: right;\">\n",
       "      <th></th>\n",
       "      <th>2</th>\n",
       "      <th>Stuning even for the non-gamer</th>\n",
       "      <th>This sound track was beautiful! It paints the senery in your mind so well I would recomend it even to people who hate vid. game music! I have played the game Chrono Cross but out of all of the games I have ever played it has the best music! It backs away from crude keyboarding and takes a fresher step with grate guitars and soulful orchestras. It would impress anyone who cares to listen! ^_^</th>\n",
       "    </tr>\n",
       "  </thead>\n",
       "  <tbody>\n",
       "    <tr>\n",
       "      <th>2800950</th>\n",
       "      <td>2</td>\n",
       "      <td>Very Cool Watch</td>\n",
       "      <td>I didn't know how to set the watch when I got ...</td>\n",
       "    </tr>\n",
       "    <tr>\n",
       "      <th>694253</th>\n",
       "      <td>1</td>\n",
       "      <td>not as rigorous</td>\n",
       "      <td>I was a little disappointed in the intensity o...</td>\n",
       "    </tr>\n",
       "    <tr>\n",
       "      <th>1093492</th>\n",
       "      <td>2</td>\n",
       "      <td>The DCC1200 makes a great cup of coffee!</td>\n",
       "      <td>I had the cuisinart grind and brew. Did not li...</td>\n",
       "    </tr>\n",
       "    <tr>\n",
       "      <th>1764000</th>\n",
       "      <td>2</td>\n",
       "      <td>Just as promised - even my jerk of a cat could...</td>\n",
       "      <td>I searched amazon.com and ended up selecting t...</td>\n",
       "    </tr>\n",
       "    <tr>\n",
       "      <th>1080476</th>\n",
       "      <td>2</td>\n",
       "      <td>better than first Polyphonica</td>\n",
       "      <td>This takes place before the first Polyphonica ...</td>\n",
       "    </tr>\n",
       "  </tbody>\n",
       "</table>\n",
       "</div>"
      ],
      "text/plain": [
       "         2                     Stuning even for the non-gamer  \\\n",
       "2800950  2                                    Very Cool Watch   \n",
       "694253   1                                    not as rigorous   \n",
       "1093492  2           The DCC1200 makes a great cup of coffee!   \n",
       "1764000  2  Just as promised - even my jerk of a cat could...   \n",
       "1080476  2                      better than first Polyphonica   \n",
       "\n",
       "        This sound track was beautiful! It paints the senery in your mind so well I would recomend it even to people who hate vid. game music! I have played the game Chrono Cross but out of all of the games I have ever played it has the best music! It backs away from crude keyboarding and takes a fresher step with grate guitars and soulful orchestras. It would impress anyone who cares to listen! ^_^  \n",
       "2800950  I didn't know how to set the watch when I got ...                                                                                                                                                                                                                                                                                                                                                          \n",
       "694253   I was a little disappointed in the intensity o...                                                                                                                                                                                                                                                                                                                                                          \n",
       "1093492  I had the cuisinart grind and brew. Did not li...                                                                                                                                                                                                                                                                                                                                                          \n",
       "1764000  I searched amazon.com and ended up selecting t...                                                                                                                                                                                                                                                                                                                                                          \n",
       "1080476  This takes place before the first Polyphonica ...                                                                                                                                                                                                                                                                                                                                                          "
      ]
     },
     "execution_count": 5,
     "metadata": {},
     "output_type": "execute_result"
    }
   ],
   "source": [
    "df.head(5)"
   ]
  },
  {
   "cell_type": "code",
   "execution_count": 6,
   "id": "468a5692",
   "metadata": {},
   "outputs": [],
   "source": [
    "df.dropna(inplace = True)"
   ]
  },
  {
   "cell_type": "code",
   "execution_count": 7,
   "id": "18eb1abf",
   "metadata": {},
   "outputs": [],
   "source": [
    "df.columns = ['Rating', 'Title', 'Review']"
   ]
  },
  {
   "cell_type": "markdown",
   "id": "8a3830d2",
   "metadata": {},
   "source": [
    "# EDA"
   ]
  },
  {
   "cell_type": "code",
   "execution_count": 8,
   "id": "f297c939",
   "metadata": {},
   "outputs": [],
   "source": [
    "df = df.sample(100_000)"
   ]
  },
  {
   "cell_type": "code",
   "execution_count": 9,
   "id": "776d1c10",
   "metadata": {},
   "outputs": [
    {
     "data": {
      "text/plain": [
       "Rating\n",
       "2    50059\n",
       "1    49941\n",
       "Name: count, dtype: int64"
      ]
     },
     "execution_count": 9,
     "metadata": {},
     "output_type": "execute_result"
    }
   ],
   "source": [
    "df['Rating'].value_counts()"
   ]
  },
  {
   "cell_type": "code",
   "execution_count": 10,
   "id": "e0ffb0fd",
   "metadata": {},
   "outputs": [],
   "source": [
    "df[\"Title_review\"] = df['Title'] + \" \" + df['Review']\n",
    "df = df.drop(['Title','Review'], axis=1)"
   ]
  },
  {
   "cell_type": "code",
   "execution_count": 11,
   "id": "08cda339",
   "metadata": {},
   "outputs": [
    {
     "name": "stdout",
     "output_type": "stream",
     "text": [
      "<class 'pandas.core.frame.DataFrame'>\n",
      "Index: 100000 entries, 335267 to 640403\n",
      "Data columns (total 2 columns):\n",
      " #   Column        Non-Null Count   Dtype \n",
      "---  ------        --------------   ----- \n",
      " 0   Rating        100000 non-null  int64 \n",
      " 1   Title_review  100000 non-null  object\n",
      "dtypes: int64(1), object(1)\n",
      "memory usage: 2.3+ MB\n"
     ]
    }
   ],
   "source": [
    "df.info()"
   ]
  },
  {
   "cell_type": "code",
   "execution_count": 12,
   "id": "9aaffeaf",
   "metadata": {},
   "outputs": [
    {
     "data": {
      "image/png": "[encoded data removed]",
      "text/plain": [
       "<Figure size 640x480 with 1 Axes>"
      ]
     },
     "metadata": {},
     "output_type": "display_data"
    }
   ],
   "source": [
    "# Analyzing data \n",
    "df.groupby('Rating').Rating.count().plot.bar()\n",
    "plt.show()"
   ]
  },
  {
   "cell_type": "markdown",
   "id": "8f8e21aa",
   "metadata": {},
   "source": [
    "# Data Preprocessing"
   ]
  },
  {
   "cell_type": "code",
   "execution_count": 13,
   "id": "d480be1c",
   "metadata": {},
   "outputs": [
    {
     "name": "stdout",
     "output_type": "stream",
     "text": [
      "['i', 'me', 'my', 'myself', 'we', 'our', 'ours', 'ourselves', 'you', \"you're\", \"you've\", \"you'll\", \"you'd\", 'your', 'yours', 'yourself', 'yourselves', 'he', 'him', 'his', 'himself', 'she', \"she's\", 'her', 'hers', 'herself', 'it', \"it's\", 'its', 'itself', 'they', 'them', 'their', 'theirs', 'themselves', 'what', 'which', 'who', 'whom', 'this', 'that', \"that'll\", 'these', 'those', 'am', 'is', 'are', 'was', 'were', 'be', 'been', 'being', 'have', 'has', 'had', 'having', 'do', 'does', 'did', 'doing', 'a', 'an', 'the', 'and', 'but', 'if', 'or', 'because', 'as', 'until', 'while', 'of', 'at', 'by', 'for', 'with', 'about', 'against', 'between', 'into', 'through', 'during', 'before', 'after', 'above', 'below', 'to', 'from', 'up', 'down', 'in', 'out', 'on', 'off', 'over', 'under', 'again', 'further', 'then', 'once', 'here', 'there', 'when', 'where', 'why', 'how', 'all', 'any', 'both', 'each', 'few', 'more', 'most', 'other', 'some', 'such', 'no', 'nor', 'not', 'only', 'own', 'same', 'so', 'than', 'too', 'very', 's', 't', 'can', 'will', 'just', 'don', \"don't\", 'should', \"should've\", 'now', 'd', 'll', 'm', 'o', 're', 've', 'y', 'ain', 'aren', \"aren't\", 'couldn', \"couldn't\", 'didn', \"didn't\", 'doesn', \"doesn't\", 'hadn', \"hadn't\", 'hasn', \"hasn't\", 'haven', \"haven't\", 'isn', \"isn't\", 'ma', 'mightn', \"mightn't\", 'mustn', \"mustn't\", 'needn', \"needn't\", 'shan', \"shan't\", 'shouldn', \"shouldn't\", 'wasn', \"wasn't\", 'weren', \"weren't\", 'won', \"won't\", 'wouldn', \"wouldn't\"]\n"
     ]
    },
    {
     "name": "stderr",
     "output_type": "stream",
     "text": [
      "[nltk_data] Error loading stopwords: <urlopen error [Errno 11001]\n",
      "[nltk_data]     getaddrinfo failed>\n"
     ]
    }
   ],
   "source": [
    "#stop words\n",
    "nltk.download('stopwords')\n",
    "words = stopwords.words(\"english\")\n",
    "print(words)"
   ]
  },
  {
   "cell_type": "code",
   "execution_count": 14,
   "id": "4e7698b6",
   "metadata": {},
   "outputs": [
    {
     "name": "stdout",
     "output_type": "stream",
     "text": [
      "Index(['Rating', 'Title_review'], dtype='object')\n"
     ]
    }
   ],
   "source": [
    "print(df.columns)"
   ]
  },
  {
   "cell_type": "code",
   "execution_count": 15,
   "id": "fb8a965a",
   "metadata": {},
   "outputs": [
    {
     "data": {
      "text/plain": [
       "\"victum of bait and switch I ordered 6 supreme moo mixers. They did arrive before Christmas. I received 6 standard moo mixers that should have been priced lower. I notified the company of the error and didn't receive a response. Very disappointed. Shame on them. I'm a victum of bait and switch.....\""
      ]
     },
     "execution_count": 15,
     "metadata": {},
     "output_type": "execute_result"
    }
   ],
   "source": [
    "df['Title_review'].iloc[0]"
   ]
  },
  {
   "cell_type": "code",
   "execution_count": 16,
   "id": "47c82062",
   "metadata": {},
   "outputs": [],
   "source": [
    "# Data Cleaning using stemmer\n",
    "stemmer = PorterStemmer()\n",
    "def apply_stemming(text):\n",
    "    if pd.isna(text):\n",
    "        return None\n",
    "    for word in text.splittes\n",
    "df['Review'] = df['Title_review'].apply(lambda x: apply_stemming(x))\n"
   ]
  },
  {
   "cell_type": "code",
   "execution_count": 17,
   "id": "d4dbbaef",
   "metadata": {},
   "outputs": [],
   "source": [
    "df = df.drop(['Title_review'], axis=1)"
   ]
  },
  {
   "cell_type": "code",
   "execution_count": 18,
   "id": "858305bc",
   "metadata": {},
   "outputs": [
    {
     "data": {
      "text/html": [
       "<div>\n",
       "<style scoped>\n",
       "    .dataframe tbody tr th:only-of-type {\n",
       "        vertical-align: middle;\n",
       "    }\n",
       "\n",
       "    .dataframe tbody tr th {\n",
       "        vertical-align: top;\n",
       "    }\n",
       "\n",
       "    .dataframe thead th {\n",
       "        text-align: right;\n",
       "    }\n",
       "</style>\n",
       "<table border=\"1\" class=\"dataframe\">\n",
       "  <thead>\n",
       "    <tr style=\"text-align: right;\">\n",
       "      <th></th>\n",
       "      <th>Rating</th>\n",
       "      <th>Review</th>\n",
       "    </tr>\n",
       "  </thead>\n",
       "  <tbody>\n",
       "    <tr>\n",
       "      <th>335267</th>\n",
       "      <td>1</td>\n",
       "      <td>victum of bait and switch i order 6 suprem moo...</td>\n",
       "    </tr>\n",
       "    <tr>\n",
       "      <th>450841</th>\n",
       "      <td>1</td>\n",
       "      <td>love the film ; hate ultra violet copi ! ! ! !...</td>\n",
       "    </tr>\n",
       "    <tr>\n",
       "      <th>140590</th>\n",
       "      <td>2</td>\n",
       "      <td>a must have for women everi woman ( marri or i...</td>\n",
       "    </tr>\n",
       "    <tr>\n",
       "      <th>3027796</th>\n",
       "      <td>2</td>\n",
       "      <td>bought three my daughter , son and son-in-law ...</td>\n",
       "    </tr>\n",
       "    <tr>\n",
       "      <th>1362015</th>\n",
       "      <td>2</td>\n",
       "      <td>clear , well written it wa a pleasur to read t...</td>\n",
       "    </tr>\n",
       "    <tr>\n",
       "      <th>...</th>\n",
       "      <td>...</td>\n",
       "      <td>...</td>\n",
       "    </tr>\n",
       "    <tr>\n",
       "      <th>360647</th>\n",
       "      <td>1</td>\n",
       "      <td>doe n't work the network could n't find the pr...</td>\n",
       "    </tr>\n",
       "    <tr>\n",
       "      <th>250040</th>\n",
       "      <td>1</td>\n",
       "      <td>leak leak leak ye they leak , i mean pour milk...</td>\n",
       "    </tr>\n",
       "    <tr>\n",
       "      <th>1409671</th>\n",
       "      <td>2</td>\n",
       "      <td>simpl , eleg , intellig i realli enjoy thi boo...</td>\n",
       "    </tr>\n",
       "    <tr>\n",
       "      <th>1501835</th>\n",
       "      <td>1</td>\n",
       "      <td>teen gangbang with cool accent and bad makeup ...</td>\n",
       "    </tr>\n",
       "    <tr>\n",
       "      <th>640403</th>\n",
       "      <td>1</td>\n",
       "      <td>nice balanc , stick consider the design of thi...</td>\n",
       "    </tr>\n",
       "  </tbody>\n",
       "</table>\n",
       "<p>100000 rows × 2 columns</p>\n",
       "</div>"
      ],
      "text/plain": [
       "         Rating                                             Review\n",
       "335267        1  victum of bait and switch i order 6 suprem moo...\n",
       "450841        1  love the film ; hate ultra violet copi ! ! ! !...\n",
       "140590        2  a must have for women everi woman ( marri or i...\n",
       "3027796       2  bought three my daughter , son and son-in-law ...\n",
       "1362015       2  clear , well written it wa a pleasur to read t...\n",
       "...         ...                                                ...\n",
       "360647        1  doe n't work the network could n't find the pr...\n",
       "250040        1  leak leak leak ye they leak , i mean pour milk...\n",
       "1409671       2  simpl , eleg , intellig i realli enjoy thi boo...\n",
       "1501835       1  teen gangbang with cool accent and bad makeup ...\n",
       "640403        1  nice balanc , stick consider the design of thi...\n",
       "\n",
       "[100000 rows x 2 columns]"
      ]
     },
     "execution_count": 18,
     "metadata": {},
     "output_type": "execute_result"
    }
   ],
   "source": [
    "df"
   ]
  },
  {
   "cell_type": "code",
   "execution_count": 18,
   "id": "d82cfb61",
   "metadata": {},
   "outputs": [],
   "source": [
    "# Doing all cleaning process using regex, stemmer, stopwords for all data\n",
    "df['Review'] = [re.sub(\"[^a-zA-Z]\", \" \", i).lower() for i in df['Review']]\n",
    "df['Review'] = list(map(lambda x: \" \".join([i for i in x.lower().split() if i not in words]), df['Review']))"
   ]
  },
  {
   "cell_type": "code",
   "execution_count": null,
   "id": "c03d3957",
   "metadata": {},
   "outputs": [],
   "source": [
    "df.head(5)"
   ]
  },
  {
   "cell_type": "code",
   "execution_count": 21,
   "id": "5e4f8405",
   "metadata": {},
   "outputs": [
    {
     "name": "stderr",
     "output_type": "stream",
     "text": [
      "C:\\Users\\acer\\AppData\\Roaming\\Python\\Python311\\site-packages\\sklearn\\linear_model\\_logistic.py:460: ConvergenceWarning: lbfgs failed to converge (status=1):\n",
      "STOP: TOTAL NO. of ITERATIONS REACHED LIMIT.\n",
      "\n",
      "Increase the number of iterations (max_iter) or scale the data as shown in:\n",
      "    https://scikit-learn.org/stable/modules/preprocessing.html\n",
      "Please also refer to the documentation for alternative solver options:\n",
      "    https://scikit-learn.org/stable/modules/linear_model.html#logistic-regression\n",
      "  n_iter_i = _check_optimize_result(\n"
     ]
    }
   ],
   "source": [
    "# Training model\n",
    "\n",
    "from sklearn.linear_model import LogisticRegression\n",
    "log_regression = LogisticRegression()\n",
    "\n",
    "vectorizer = TfidfVectorizer()\n",
    "X = df['Review']\n",
    "Y = df['Rating']\n",
    "\n",
    "X_train, X_test, y_train, y_test = train_test_split(X, Y, test_size=0.15)\n",
    "\n",
    "#Pipeline\n",
    "pipeline = Pipeline([('vect', vectorizer),\n",
    "                     ('chi',  SelectKBest(chi2, k=2000)),\n",
    "                     ('clf', LogisticRegression())])\n",
    "model = pipeline.fit(X, Y)"
   ]
  },
  {
   "cell_type": "code",
   "execution_count": 23,
   "id": "af7a7c13",
   "metadata": {},
   "outputs": [
    {
     "name": "stdout",
     "output_type": "stream",
     "text": [
      "0.8851333333333333\n"
     ]
    }
   ],
   "source": [
    "#Accuracy\n",
    "from sklearn.metrics import accuracy_score\n",
    "predict_rating = model.predict(X_test)\n",
    "print(accuracy_score(y_test,predict_rating))"
   ]
  },
  {
   "cell_type": "code",
   "execution_count": 28,
   "id": "bcc659b7",
   "metadata": {},
   "outputs": [
    {
     "name": "stdout",
     "output_type": "stream",
     "text": [
      "Enter review = bad\n",
      "Predicted rating  =  2\n"
     ]
    }
   ],
   "source": [
    "review = input(\"Enter review = \")\n",
    "review_data = {'predict_rating':[review]}\n",
    "review_data_df = pd.DataFrame(review_data)\n",
    "predict_news_cat = model.predict(review_data_df['predict_rating'])\n",
    "print(\"Predicted rating  = \",predict_rating[0])"
   ]
  },
  {
   "cell_type": "code",
   "execution_count": 25,
   "id": "e0e3e7f4",
   "metadata": {},
   "outputs": [
    {
     "name": "stdout",
     "output_type": "stream",
     "text": [
      "              precision    recall  f1-score   support\n",
      "\n",
      "           1       0.89      0.88      0.88      7456\n",
      "           2       0.89      0.89      0.89      7544\n",
      "\n",
      "    accuracy                           0.89     15000\n",
      "   macro avg       0.89      0.89      0.89     15000\n",
      "weighted avg       0.89      0.89      0.89     15000\n",
      "\n",
      "[[6587  854]\n",
      " [ 869 6690]]\n"
     ]
    }
   ],
   "source": [
    "# confusion matrix and classification report(precision, recall, F1-score)\n",
    "ytest = np.array(y_test)\n",
    "print(classification_report(ytest,model.predict(X_test)))\n",
    "print(confusion_matrix(model.predict(X_test),ytest))"
   ]
  },
  {
   "cell_type": "code",
   "execution_count": 26,
   "id": "7201a90e",
   "metadata": {},
   "outputs": [
    {
     "data": {
      "image/png": "[encoded data removed]",
      "text/plain": [
       "<Figure size 800x800 with 2 Axes>"
      ]
     },
     "metadata": {},
     "output_type": "display_data"
    }
   ],
   "source": [
    "import matplotlib.pyplot as plt\n",
    "from sklearn.metrics import ConfusionMatrixDisplay\n",
    "cm = confusion_matrix(model.predict(X_test),ytest)\n",
    "fig, ax = plt.subplots(figsize=(8,8), dpi=100)\n",
    "class_names = ['1','2']\n",
    "display = ConfusionMatrixDisplay(cm, display_labels=class_names)\n",
    "ax.set(title='Confusion Matrix for the  Text Classification Model')\n",
    "display.plot(ax=ax);"
   ]
  },
  {
   "cell_type": "code",
   "execution_count": null,
   "id": "ccb0592f",
   "metadata": {},
   "outputs": [],
   "source": []
  }
 ],
 "metadata": {
  "kernelspec": {
   "display_name": "Python 3 (ipykernel)",
   "language": "python",
   "name": "python3"
  },
  "language_info": {
   "codemirror_mode": {
    "name": "ipython",
    "version": 3
   },
   "file_extension": ".py",
   "mimetype": "text/x-python",
   "name": "python",
   "nbconvert_exporter": "python",
   "pygments_lexer": "ipython3",
   "version": "3.11.3"
  }
 },
 "nbformat": 4,
 "nbformat_minor": 5
}
