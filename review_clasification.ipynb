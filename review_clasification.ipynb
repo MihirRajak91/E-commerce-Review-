{
 "cells": [
  {
   "cell_type": "markdown",
   "id": "cda45244",
   "metadata": {},
   "source": [
    "# Importing Pacakages"
   ]
  },
  {
   "cell_type": "code",
   "execution_count": 108,
   "id": "5429d66d",
   "metadata": {
    "scrolled": true
   },
   "outputs": [
    {
     "name": "stderr",
     "output_type": "stream",
     "text": [
      "[nltk_data] Downloading package punkt to\n",
      "[nltk_data]     C:\\Users\\acer\\AppData\\Roaming\\nltk_data...\n",
      "[nltk_data]   Package punkt is already up-to-date!\n",
      "[nltk_data] Downloading package stopwords to\n",
      "[nltk_data]     C:\\Users\\acer\\AppData\\Roaming\\nltk_data...\n",
      "[nltk_data]   Package stopwords is already up-to-date!\n"
     ]
    }
   ],
   "source": [
    "import numpy as np\n",
    "import pandas as pd\n",
    "import re,string\n",
    "import matplotlib.pyplot as plt\n",
    "from nltk.tokenize import word_tokenize\n",
    "from nltk.corpus import stopwords\n",
    "from nltk.stem import PorterStemmer\n",
    "from sklearn.feature_extraction.text import TfidfVectorizer\n",
    "from sklearn.pipeline import Pipeline\n",
    "from sklearn.metrics import classification_report, confusion_matrix\n",
    "from sklearn.model_selection import train_test_split\n",
    "from sklearn.feature_selection import SelectKBest, chi2\n",
    "import pickle\n",
    "import nltk\n",
    "nltk.download('punkt')\n",
    "nltk.download('stopwords')\n",
    "%matplotlib inline"
   ]
  },
  {
   "cell_type": "markdown",
   "id": "f4b8df8c",
   "metadata": {},
   "source": [
    "# Reading data"
   ]
  },
  {
   "cell_type": "code",
   "execution_count": 109,
   "id": "ec07dbaf",
   "metadata": {
    "scrolled": true
   },
   "outputs": [
    {
     "data": {
      "text/html": [
       "<div>\n",
       "<style scoped>\n",
       "    .dataframe tbody tr th:only-of-type {\n",
       "        vertical-align: middle;\n",
       "    }\n",
       "\n",
       "    .dataframe tbody tr th {\n",
       "        vertical-align: top;\n",
       "    }\n",
       "\n",
       "    .dataframe thead th {\n",
       "        text-align: right;\n",
       "    }\n",
       "</style>\n",
       "<table border=\"1\" class=\"dataframe\">\n",
       "  <thead>\n",
       "    <tr style=\"text-align: right;\">\n",
       "      <th></th>\n",
       "      <th>2</th>\n",
       "      <th>Stuning even for the non-gamer</th>\n",
       "      <th>This sound track was beautiful! It paints the senery in your mind so well I would recomend it even to people who hate vid. game music! I have played the game Chrono Cross but out of all of the games I have ever played it has the best music! It backs away from crude keyboarding and takes a fresher step with grate guitars and soulful orchestras. It would impress anyone who cares to listen! ^_^</th>\n",
       "    </tr>\n",
       "  </thead>\n",
       "  <tbody>\n",
       "    <tr>\n",
       "      <th>1781209</th>\n",
       "      <td>2</td>\n",
       "      <td>these are my 5th pair</td>\n",
       "      <td>I love the subwoofer and these are also good w...</td>\n",
       "    </tr>\n",
       "    <tr>\n",
       "      <th>1201440</th>\n",
       "      <td>2</td>\n",
       "      <td>Its not bad</td>\n",
       "      <td>The movies are great and they have good Pictur...</td>\n",
       "    </tr>\n",
       "    <tr>\n",
       "      <th>1561930</th>\n",
       "      <td>2</td>\n",
       "      <td>A Favorite of Mine for Many Years</td>\n",
       "      <td>I used to own this publication but somehow in ...</td>\n",
       "    </tr>\n",
       "    <tr>\n",
       "      <th>659440</th>\n",
       "      <td>1</td>\n",
       "      <td>One song does not make a CD.</td>\n",
       "      <td>My mistake. I usually know better to try a CD ...</td>\n",
       "    </tr>\n",
       "    <tr>\n",
       "      <th>407417</th>\n",
       "      <td>2</td>\n",
       "      <td>fun in the car</td>\n",
       "      <td>excellent type of book-on-tape for those long ...</td>\n",
       "    </tr>\n",
       "    <tr>\n",
       "      <th>...</th>\n",
       "      <td>...</td>\n",
       "      <td>...</td>\n",
       "      <td>...</td>\n",
       "    </tr>\n",
       "    <tr>\n",
       "      <th>1308263</th>\n",
       "      <td>1</td>\n",
       "      <td>Highway Robbery</td>\n",
       "      <td>Even at the cost of .01 (and 3.99 for shipping...</td>\n",
       "    </tr>\n",
       "    <tr>\n",
       "      <th>2002559</th>\n",
       "      <td>1</td>\n",
       "      <td>Not a comfortable sling! There are better ones...</td>\n",
       "      <td>This sling was extremely uncomfortable for me....</td>\n",
       "    </tr>\n",
       "    <tr>\n",
       "      <th>3343832</th>\n",
       "      <td>2</td>\n",
       "      <td>An amazing debut. Great book!</td>\n",
       "      <td>(please, for a much more erudite and thorough ...</td>\n",
       "    </tr>\n",
       "    <tr>\n",
       "      <th>3334129</th>\n",
       "      <td>2</td>\n",
       "      <td>um</td>\n",
       "      <td>um by Pro-Republican, I believe he meant Irish...</td>\n",
       "    </tr>\n",
       "    <tr>\n",
       "      <th>2181450</th>\n",
       "      <td>2</td>\n",
       "      <td>Glad I read reviews</td>\n",
       "      <td>After a mix up and the first one getting lost ...</td>\n",
       "    </tr>\n",
       "  </tbody>\n",
       "</table>\n",
       "<p>3599999 rows × 3 columns</p>\n",
       "</div>"
      ],
      "text/plain": [
       "         2                     Stuning even for the non-gamer  \\\n",
       "1781209  2                              these are my 5th pair   \n",
       "1201440  2                                        Its not bad   \n",
       "1561930  2                  A Favorite of Mine for Many Years   \n",
       "659440   1                       One song does not make a CD.   \n",
       "407417   2                                     fun in the car   \n",
       "...     ..                                                ...   \n",
       "1308263  1                                    Highway Robbery   \n",
       "2002559  1  Not a comfortable sling! There are better ones...   \n",
       "3343832  2                      An amazing debut. Great book!   \n",
       "3334129  2                                                 um   \n",
       "2181450  2                                Glad I read reviews   \n",
       "\n",
       "        This sound track was beautiful! It paints the senery in your mind so well I would recomend it even to people who hate vid. game music! I have played the game Chrono Cross but out of all of the games I have ever played it has the best music! It backs away from crude keyboarding and takes a fresher step with grate guitars and soulful orchestras. It would impress anyone who cares to listen! ^_^  \n",
       "1781209  I love the subwoofer and these are also good w...                                                                                                                                                                                                                                                                                                                                                          \n",
       "1201440  The movies are great and they have good Pictur...                                                                                                                                                                                                                                                                                                                                                          \n",
       "1561930  I used to own this publication but somehow in ...                                                                                                                                                                                                                                                                                                                                                          \n",
       "659440   My mistake. I usually know better to try a CD ...                                                                                                                                                                                                                                                                                                                                                          \n",
       "407417   excellent type of book-on-tape for those long ...                                                                                                                                                                                                                                                                                                                                                          \n",
       "...                                                    ...                                                                                                                                                                                                                                                                                                                                                          \n",
       "1308263  Even at the cost of .01 (and 3.99 for shipping...                                                                                                                                                                                                                                                                                                                                                          \n",
       "2002559  This sling was extremely uncomfortable for me....                                                                                                                                                                                                                                                                                                                                                          \n",
       "3343832  (please, for a much more erudite and thorough ...                                                                                                                                                                                                                                                                                                                                                          \n",
       "3334129  um by Pro-Republican, I believe he meant Irish...                                                                                                                                                                                                                                                                                                                                                          \n",
       "2181450  After a mix up and the first one getting lost ...                                                                                                                                                                                                                                                                                                                                                          \n",
       "\n",
       "[3599999 rows x 3 columns]"
      ]
     },
     "execution_count": 109,
     "metadata": {},
     "output_type": "execute_result"
    }
   ],
   "source": [
    "df = pd.read_csv('train.csv')\n",
    "df = df.sample(frac = 1)\n",
    "df"
   ]
  },
  {
   "cell_type": "code",
   "execution_count": 110,
   "id": "b2c13430",
   "metadata": {},
   "outputs": [
    {
     "data": {
      "text/html": [
       "<div>\n",
       "<style scoped>\n",
       "    .dataframe tbody tr th:only-of-type {\n",
       "        vertical-align: middle;\n",
       "    }\n",
       "\n",
       "    .dataframe tbody tr th {\n",
       "        vertical-align: top;\n",
       "    }\n",
       "\n",
       "    .dataframe thead th {\n",
       "        text-align: right;\n",
       "    }\n",
       "</style>\n",
       "<table border=\"1\" class=\"dataframe\">\n",
       "  <thead>\n",
       "    <tr style=\"text-align: right;\">\n",
       "      <th></th>\n",
       "      <th>2</th>\n",
       "      <th>Stuning even for the non-gamer</th>\n",
       "      <th>This sound track was beautiful! It paints the senery in your mind so well I would recomend it even to people who hate vid. game music! I have played the game Chrono Cross but out of all of the games I have ever played it has the best music! It backs away from crude keyboarding and takes a fresher step with grate guitars and soulful orchestras. It would impress anyone who cares to listen! ^_^</th>\n",
       "    </tr>\n",
       "  </thead>\n",
       "  <tbody>\n",
       "    <tr>\n",
       "      <th>1781209</th>\n",
       "      <td>2</td>\n",
       "      <td>these are my 5th pair</td>\n",
       "      <td>I love the subwoofer and these are also good w...</td>\n",
       "    </tr>\n",
       "    <tr>\n",
       "      <th>1201440</th>\n",
       "      <td>2</td>\n",
       "      <td>Its not bad</td>\n",
       "      <td>The movies are great and they have good Pictur...</td>\n",
       "    </tr>\n",
       "    <tr>\n",
       "      <th>1561930</th>\n",
       "      <td>2</td>\n",
       "      <td>A Favorite of Mine for Many Years</td>\n",
       "      <td>I used to own this publication but somehow in ...</td>\n",
       "    </tr>\n",
       "    <tr>\n",
       "      <th>659440</th>\n",
       "      <td>1</td>\n",
       "      <td>One song does not make a CD.</td>\n",
       "      <td>My mistake. I usually know better to try a CD ...</td>\n",
       "    </tr>\n",
       "    <tr>\n",
       "      <th>407417</th>\n",
       "      <td>2</td>\n",
       "      <td>fun in the car</td>\n",
       "      <td>excellent type of book-on-tape for those long ...</td>\n",
       "    </tr>\n",
       "  </tbody>\n",
       "</table>\n",
       "</div>"
      ],
      "text/plain": [
       "         2     Stuning even for the non-gamer  \\\n",
       "1781209  2              these are my 5th pair   \n",
       "1201440  2                        Its not bad   \n",
       "1561930  2  A Favorite of Mine for Many Years   \n",
       "659440   1       One song does not make a CD.   \n",
       "407417   2                     fun in the car   \n",
       "\n",
       "        This sound track was beautiful! It paints the senery in your mind so well I would recomend it even to people who hate vid. game music! I have played the game Chrono Cross but out of all of the games I have ever played it has the best music! It backs away from crude keyboarding and takes a fresher step with grate guitars and soulful orchestras. It would impress anyone who cares to listen! ^_^  \n",
       "1781209  I love the subwoofer and these are also good w...                                                                                                                                                                                                                                                                                                                                                          \n",
       "1201440  The movies are great and they have good Pictur...                                                                                                                                                                                                                                                                                                                                                          \n",
       "1561930  I used to own this publication but somehow in ...                                                                                                                                                                                                                                                                                                                                                          \n",
       "659440   My mistake. I usually know better to try a CD ...                                                                                                                                                                                                                                                                                                                                                          \n",
       "407417   excellent type of book-on-tape for those long ...                                                                                                                                                                                                                                                                                                                                                          "
      ]
     },
     "execution_count": 110,
     "metadata": {},
     "output_type": "execute_result"
    }
   ],
   "source": [
    "df.head(5)"
   ]
  },
  {
   "cell_type": "code",
   "execution_count": 111,
   "id": "468a5692",
   "metadata": {},
   "outputs": [],
   "source": [
    "df.dropna(inplace = True)"
   ]
  },
  {
   "cell_type": "code",
   "execution_count": 112,
   "id": "18eb1abf",
   "metadata": {},
   "outputs": [],
   "source": [
    "df.columns = ['Rating', 'Title', 'Review']"
   ]
  },
  {
   "cell_type": "markdown",
   "id": "8a3830d2",
   "metadata": {},
   "source": [
    "# EDA"
   ]
  },
  {
   "cell_type": "code",
   "execution_count": 113,
   "id": "f297c939",
   "metadata": {},
   "outputs": [],
   "source": [
    "df = df.sample(100_000)\n",
    "#df = df.sample(1000)"
   ]
  },
  {
   "cell_type": "code",
   "execution_count": 114,
   "id": "776d1c10",
   "metadata": {},
   "outputs": [
    {
     "data": {
      "text/plain": [
       "Rating\n",
       "1    50020\n",
       "2    49980\n",
       "Name: count, dtype: int64"
      ]
     },
     "execution_count": 114,
     "metadata": {},
     "output_type": "execute_result"
    }
   ],
   "source": [
    "df['Rating'].value_counts()"
   ]
  },
  {
   "cell_type": "code",
   "execution_count": 115,
   "id": "e0ffb0fd",
   "metadata": {},
   "outputs": [
    {
     "data": {
      "text/html": [
       "<div>\n",
       "<style scoped>\n",
       "    .dataframe tbody tr th:only-of-type {\n",
       "        vertical-align: middle;\n",
       "    }\n",
       "\n",
       "    .dataframe tbody tr th {\n",
       "        vertical-align: top;\n",
       "    }\n",
       "\n",
       "    .dataframe thead th {\n",
       "        text-align: right;\n",
       "    }\n",
       "</style>\n",
       "<table border=\"1\" class=\"dataframe\">\n",
       "  <thead>\n",
       "    <tr style=\"text-align: right;\">\n",
       "      <th></th>\n",
       "      <th>Rating</th>\n",
       "      <th>Title_review</th>\n",
       "    </tr>\n",
       "  </thead>\n",
       "  <tbody>\n",
       "    <tr>\n",
       "      <th>2746037</th>\n",
       "      <td>1</td>\n",
       "      <td>This will not import in itunes for playing on ...</td>\n",
       "    </tr>\n",
       "    <tr>\n",
       "      <th>697906</th>\n",
       "      <td>2</td>\n",
       "      <td>Memphis Belle Great movie. Great storyline. Aw...</td>\n",
       "    </tr>\n",
       "    <tr>\n",
       "      <th>872258</th>\n",
       "      <td>1</td>\n",
       "      <td>Not worth it I bought the Krussell case to pro...</td>\n",
       "    </tr>\n",
       "    <tr>\n",
       "      <th>3256926</th>\n",
       "      <td>1</td>\n",
       "      <td>FALSE DESCRIPTION - BE AWARE! I'm writing this...</td>\n",
       "    </tr>\n",
       "    <tr>\n",
       "      <th>78356</th>\n",
       "      <td>1</td>\n",
       "      <td>Buyer Beware When is Free not Free? Avoid this...</td>\n",
       "    </tr>\n",
       "    <tr>\n",
       "      <th>...</th>\n",
       "      <td>...</td>\n",
       "      <td>...</td>\n",
       "    </tr>\n",
       "    <tr>\n",
       "      <th>1218442</th>\n",
       "      <td>1</td>\n",
       "      <td>I didnt expect a documentary style read My fau...</td>\n",
       "    </tr>\n",
       "    <tr>\n",
       "      <th>737947</th>\n",
       "      <td>1</td>\n",
       "      <td>hacking i like movies concerning computers and...</td>\n",
       "    </tr>\n",
       "    <tr>\n",
       "      <th>2312618</th>\n",
       "      <td>2</td>\n",
       "      <td>Good Deal on Filters This is the best deal I h...</td>\n",
       "    </tr>\n",
       "    <tr>\n",
       "      <th>1438995</th>\n",
       "      <td>1</td>\n",
       "      <td>Disappointing So much potential. So little del...</td>\n",
       "    </tr>\n",
       "    <tr>\n",
       "      <th>2797492</th>\n",
       "      <td>2</td>\n",
       "      <td>Gets the job done. Its a typical unspecial the...</td>\n",
       "    </tr>\n",
       "  </tbody>\n",
       "</table>\n",
       "<p>100000 rows × 2 columns</p>\n",
       "</div>"
      ],
      "text/plain": [
       "         Rating                                       Title_review\n",
       "2746037       1  This will not import in itunes for playing on ...\n",
       "697906        2  Memphis Belle Great movie. Great storyline. Aw...\n",
       "872258        1  Not worth it I bought the Krussell case to pro...\n",
       "3256926       1  FALSE DESCRIPTION - BE AWARE! I'm writing this...\n",
       "78356         1  Buyer Beware When is Free not Free? Avoid this...\n",
       "...         ...                                                ...\n",
       "1218442       1  I didnt expect a documentary style read My fau...\n",
       "737947        1  hacking i like movies concerning computers and...\n",
       "2312618       2  Good Deal on Filters This is the best deal I h...\n",
       "1438995       1  Disappointing So much potential. So little del...\n",
       "2797492       2  Gets the job done. Its a typical unspecial the...\n",
       "\n",
       "[100000 rows x 2 columns]"
      ]
     },
     "execution_count": 115,
     "metadata": {},
     "output_type": "execute_result"
    }
   ],
   "source": [
    "df[\"Title_review\"] = df['Title'] + \" \" + df['Review']\n",
    "df = df.drop(['Title','Review'], axis=1)\n",
    "df"
   ]
  },
  {
   "cell_type": "code",
   "execution_count": 116,
   "id": "08cda339",
   "metadata": {},
   "outputs": [
    {
     "name": "stdout",
     "output_type": "stream",
     "text": [
      "<class 'pandas.core.frame.DataFrame'>\n",
      "Index: 100000 entries, 2746037 to 2797492\n",
      "Data columns (total 2 columns):\n",
      " #   Column        Non-Null Count   Dtype \n",
      "---  ------        --------------   ----- \n",
      " 0   Rating        100000 non-null  int64 \n",
      " 1   Title_review  100000 non-null  object\n",
      "dtypes: int64(1), object(1)\n",
      "memory usage: 2.3+ MB\n"
     ]
    }
   ],
   "source": [
    "df.info()"
   ]
  },
  {
   "cell_type": "code",
   "execution_count": 117,
   "id": "9aaffeaf",
   "metadata": {},
   "outputs": [
    {
     "data": {
      "image/png": "[encoded data removed]",
      "text/plain": [
       "<Figure size 640x480 with 1 Axes>"
      ]
     },
     "metadata": {},
     "output_type": "display_data"
    }
   ],
   "source": [
    "# Analyzing data \n",
    "df.groupby('Rating').Rating.count().plot.bar()\n",
    "plt.show()"
   ]
  },
  {
   "cell_type": "markdown",
   "id": "8f8e21aa",
   "metadata": {},
   "source": [
    "# Data Preprocessing"
   ]
  },
  {
   "cell_type": "code",
   "execution_count": 118,
   "id": "d480be1c",
   "metadata": {},
   "outputs": [
    {
     "name": "stdout",
     "output_type": "stream",
     "text": [
      "['i', 'me', 'my', 'myself', 'we', 'our', 'ours', 'ourselves', 'you', \"you're\", \"you've\", \"you'll\", \"you'd\", 'your', 'yours', 'yourself', 'yourselves', 'he', 'him', 'his', 'himself', 'she', \"she's\", 'her', 'hers', 'herself', 'it', \"it's\", 'its', 'itself', 'they', 'them', 'their', 'theirs', 'themselves', 'what', 'which', 'who', 'whom', 'this', 'that', \"that'll\", 'these', 'those', 'am', 'is', 'are', 'was', 'were', 'be', 'been', 'being', 'have', 'has', 'had', 'having', 'do', 'does', 'did', 'doing', 'a', 'an', 'the', 'and', 'but', 'if', 'or', 'because', 'as', 'until', 'while', 'of', 'at', 'by', 'for', 'with', 'about', 'against', 'between', 'into', 'through', 'during', 'before', 'after', 'above', 'below', 'to', 'from', 'up', 'down', 'in', 'out', 'on', 'off', 'over', 'under', 'again', 'further', 'then', 'once', 'here', 'there', 'when', 'where', 'why', 'how', 'all', 'any', 'both', 'each', 'few', 'more', 'most', 'other', 'some', 'such', 'no', 'nor', 'not', 'only', 'own', 'same', 'so', 'than', 'too', 'very', 's', 't', 'can', 'will', 'just', 'don', \"don't\", 'should', \"should've\", 'now', 'd', 'll', 'm', 'o', 're', 've', 'y', 'ain', 'aren', \"aren't\", 'couldn', \"couldn't\", 'didn', \"didn't\", 'doesn', \"doesn't\", 'hadn', \"hadn't\", 'hasn', \"hasn't\", 'haven', \"haven't\", 'isn', \"isn't\", 'ma', 'mightn', \"mightn't\", 'mustn', \"mustn't\", 'needn', \"needn't\", 'shan', \"shan't\", 'shouldn', \"shouldn't\", 'wasn', \"wasn't\", 'weren', \"weren't\", 'won', \"won't\", 'wouldn', \"wouldn't\"]\n"
     ]
    },
    {
     "name": "stderr",
     "output_type": "stream",
     "text": [
      "[nltk_data] Downloading package stopwords to\n",
      "[nltk_data]     C:\\Users\\acer\\AppData\\Roaming\\nltk_data...\n",
      "[nltk_data]   Package stopwords is already up-to-date!\n"
     ]
    }
   ],
   "source": [
    "#stop words\n",
    "nltk.download('stopwords')\n",
    "stop_words = stopwords.words(\"english\")\n",
    "print(stop_words)"
   ]
  },
  {
   "cell_type": "code",
   "execution_count": 119,
   "id": "4e7698b6",
   "metadata": {},
   "outputs": [
    {
     "name": "stdout",
     "output_type": "stream",
     "text": [
      "Index(['Rating', 'Title_review'], dtype='object')\n"
     ]
    }
   ],
   "source": [
    "print(df.columns)"
   ]
  },
  {
   "cell_type": "code",
   "execution_count": 120,
   "id": "fb8a965a",
   "metadata": {},
   "outputs": [
    {
     "data": {
      "text/plain": [
       "\"This will not import in itunes for playing on an ipod This was good when I listened on my stereo to a couple of songs, but when I went to import it into itunes for playing on ipod, it will not see the CD. If you are interested in putting this on your ipod don't buy this CD. (Windows Media Play will not recognise this CD either)\""
      ]
     },
     "execution_count": 120,
     "metadata": {},
     "output_type": "execute_result"
    }
   ],
   "source": [
    "df['Title_review'].iloc[0]"
   ]
  },
  {
   "cell_type": "code",
   "execution_count": 121,
   "id": "47c82062",
   "metadata": {},
   "outputs": [],
   "source": [
    "# Data Cleaning using stemmer\n",
    "stemmer = PorterStemmer()\n",
    "def preprocess_text(text):\n",
    "    text = re.sub(r'[^\\w\\s]', '', text)\n",
    "    words = word_tokenize(text)\n",
    "    filtered_words = [stemmer.stem(word) for word in words if word.lower() not in stop_words]\n",
    "    return ' '.join(filtered_words)\n",
    "\n",
    "df['processed_text_column'] = df['Title_review'].apply(preprocess_text)"
   ]
  },
  {
   "cell_type": "code",
   "execution_count": 122,
   "id": "d4dbbaef",
   "metadata": {},
   "outputs": [],
   "source": [
    "df = df.drop(['Title_review'], axis=1)"
   ]
  },
  {
   "cell_type": "code",
   "execution_count": 123,
   "id": "858305bc",
   "metadata": {},
   "outputs": [
    {
     "data": {
      "text/html": [
       "<div>\n",
       "<style scoped>\n",
       "    .dataframe tbody tr th:only-of-type {\n",
       "        vertical-align: middle;\n",
       "    }\n",
       "\n",
       "    .dataframe tbody tr th {\n",
       "        vertical-align: top;\n",
       "    }\n",
       "\n",
       "    .dataframe thead th {\n",
       "        text-align: right;\n",
       "    }\n",
       "</style>\n",
       "<table border=\"1\" class=\"dataframe\">\n",
       "  <thead>\n",
       "    <tr style=\"text-align: right;\">\n",
       "      <th></th>\n",
       "      <th>Rating</th>\n",
       "      <th>processed_text_column</th>\n",
       "    </tr>\n",
       "  </thead>\n",
       "  <tbody>\n",
       "    <tr>\n",
       "      <th>2746037</th>\n",
       "      <td>1</td>\n",
       "      <td>import itun play ipod good listen stereo coupl...</td>\n",
       "    </tr>\n",
       "    <tr>\n",
       "      <th>697906</th>\n",
       "      <td>2</td>\n",
       "      <td>memphi bell great movi great storylin awesom c...</td>\n",
       "    </tr>\n",
       "    <tr>\n",
       "      <th>872258</th>\n",
       "      <td>1</td>\n",
       "      <td>worth bought krussel case protect new w810i co...</td>\n",
       "    </tr>\n",
       "    <tr>\n",
       "      <th>3256926</th>\n",
       "      <td>1</td>\n",
       "      <td>fals descript awar im write review clear inacc...</td>\n",
       "    </tr>\n",
       "    <tr>\n",
       "      <th>78356</th>\n",
       "      <td>1</td>\n",
       "      <td>buyer bewar free free avoid product free credi...</td>\n",
       "    </tr>\n",
       "    <tr>\n",
       "      <th>...</th>\n",
       "      <td>...</td>\n",
       "      <td>...</td>\n",
       "    </tr>\n",
       "    <tr>\n",
       "      <th>1218442</th>\n",
       "      <td>1</td>\n",
       "      <td>didnt expect documentari style read fault wasn...</td>\n",
       "    </tr>\n",
       "    <tr>\n",
       "      <th>737947</th>\n",
       "      <td>1</td>\n",
       "      <td>hack like movi concern comput hackingbut movi ...</td>\n",
       "    </tr>\n",
       "    <tr>\n",
       "      <th>2312618</th>\n",
       "      <td>2</td>\n",
       "      <td>good deal filter best deal found filter last p...</td>\n",
       "    </tr>\n",
       "    <tr>\n",
       "      <th>1438995</th>\n",
       "      <td>1</td>\n",
       "      <td>disappoint much potenti littl deliv first chap...</td>\n",
       "    </tr>\n",
       "    <tr>\n",
       "      <th>2797492</th>\n",
       "      <td>2</td>\n",
       "      <td>get job done typic unspeci thermomet think wor...</td>\n",
       "    </tr>\n",
       "  </tbody>\n",
       "</table>\n",
       "<p>100000 rows × 2 columns</p>\n",
       "</div>"
      ],
      "text/plain": [
       "         Rating                              processed_text_column\n",
       "2746037       1  import itun play ipod good listen stereo coupl...\n",
       "697906        2  memphi bell great movi great storylin awesom c...\n",
       "872258        1  worth bought krussel case protect new w810i co...\n",
       "3256926       1  fals descript awar im write review clear inacc...\n",
       "78356         1  buyer bewar free free avoid product free credi...\n",
       "...         ...                                                ...\n",
       "1218442       1  didnt expect documentari style read fault wasn...\n",
       "737947        1  hack like movi concern comput hackingbut movi ...\n",
       "2312618       2  good deal filter best deal found filter last p...\n",
       "1438995       1  disappoint much potenti littl deliv first chap...\n",
       "2797492       2  get job done typic unspeci thermomet think wor...\n",
       "\n",
       "[100000 rows x 2 columns]"
      ]
     },
     "execution_count": 123,
     "metadata": {},
     "output_type": "execute_result"
    }
   ],
   "source": [
    "df"
   ]
  },
  {
   "cell_type": "code",
   "execution_count": 124,
   "id": "c03d3957",
   "metadata": {},
   "outputs": [],
   "source": [
    "df.head(5)\n",
    "df.to_csv('cleaned_test.csv')"
   ]
  },
  {
   "cell_type": "code",
   "execution_count": 125,
   "id": "4070f8b9",
   "metadata": {},
   "outputs": [],
   "source": [
    "# Training model"
   ]
  },
  {
   "cell_type": "code",
   "execution_count": 126,
   "id": "5e4f8405",
   "metadata": {},
   "outputs": [
    {
     "name": "stderr",
     "output_type": "stream",
     "text": [
      "C:\\Users\\acer\\AppData\\Roaming\\Python\\Python311\\site-packages\\sklearn\\linear_model\\_logistic.py:460: ConvergenceWarning: lbfgs failed to converge (status=1):\n",
      "STOP: TOTAL NO. of ITERATIONS REACHED LIMIT.\n",
      "\n",
      "Increase the number of iterations (max_iter) or scale the data as shown in:\n",
      "    https://scikit-learn.org/stable/modules/preprocessing.html\n",
      "Please also refer to the documentation for alternative solver options:\n",
      "    https://scikit-learn.org/stable/modules/linear_model.html#logistic-regression\n",
      "  n_iter_i = _check_optimize_result(\n"
     ]
    }
   ],
   "source": [
    "# Training model\n",
    "\n",
    "from sklearn.linear_model import LogisticRegression\n",
    "log_regression = LogisticRegression()\n",
    "\n",
    "vectorizer = TfidfVectorizer()\n",
    "X = df['processed_text_column']\n",
    "Y = df['Rating']\n",
    "\n",
    "X_train, X_test, y_train, y_test = train_test_split(X, Y, test_size=0.15)\n",
    "\n",
    "#Pipeline\n",
    "pipeline = Pipeline([('vect', vectorizer),\n",
    "                     ('chi',  SelectKBest(chi2, k=2000)),\n",
    "                     ('clf', LogisticRegression())])\n",
    "model = pipeline.fit(X, Y)"
   ]
  },
  {
   "cell_type": "code",
   "execution_count": 127,
   "id": "af7a7c13",
   "metadata": {},
   "outputs": [
    {
     "name": "stdout",
     "output_type": "stream",
     "text": [
      "0.8829333333333333\n"
     ]
    }
   ],
   "source": [
    "#Accuracy\n",
    "from sklearn.metrics import accuracy_score\n",
    "predict_rating = model.predict(X_test)\n",
    "print(accuracy_score(y_test,predict_rating))"
   ]
  },
  {
   "cell_type": "code",
   "execution_count": 138,
   "id": "bcc659b7",
   "metadata": {},
   "outputs": [
    {
     "name": "stdout",
     "output_type": "stream",
     "text": [
      "Enter review = a'\n",
      "Predicted rating  =  [2]\n"
     ]
    }
   ],
   "source": [
    "review = input(\"Enter review = \")\n",
    "review_data = {'predict_rating':[review]}\n",
    "review_data_df = pd.DataFrame(review_data)\n",
    "predict_data_cat = model.predict(review_data_df['predict_rating'])\n",
    "print(\"Predicted rating  = \",predict_data_cat)"
   ]
  },
  {
   "cell_type": "code",
   "execution_count": 132,
   "id": "e0e3e7f4",
   "metadata": {},
   "outputs": [
    {
     "name": "stdout",
     "output_type": "stream",
     "text": [
      "              precision    recall  f1-score   support\n",
      "\n",
      "           1       0.88      0.88      0.88      7556\n",
      "           2       0.88      0.88      0.88      7444\n",
      "\n",
      "    accuracy                           0.88     15000\n",
      "   macro avg       0.88      0.88      0.88     15000\n",
      "weighted avg       0.88      0.88      0.88     15000\n",
      "\n",
      "[[6670  870]\n",
      " [ 886 6574]]\n"
     ]
    }
   ],
   "source": [
    "# confusion matrix and classification report(precision, recall, F1-score)\n",
    "ytest = np.array(y_test)\n",
    "print(classification_report(ytest,model.predict(X_test)))\n",
    "print(confusion_matrix(model.predict(X_test),ytest))"
   ]
  },
  {
   "cell_type": "code",
   "execution_count": 133,
   "id": "7201a90e",
   "metadata": {},
   "outputs": [
    {
     "data": {
      "image/png": "[encoded data removed]",
      "text/plain": [
       "<Figure size 800x800 with 2 Axes>"
      ]
     },
     "metadata": {},
     "output_type": "display_data"
    }
   ],
   "source": [
    "import matplotlib.pyplot as plt\n",
    "from sklearn.metrics import ConfusionMatrixDisplay\n",
    "cm = confusion_matrix(model.predict(X_test),ytest)\n",
    "fig, ax = plt.subplots(figsize=(8,8), dpi=100)\n",
    "class_names = ['1','2']\n",
    "display = ConfusionMatrixDisplay(cm, display_labels=class_names)\n",
    "ax.set(title='Confusion Matrix for the  Text Classification Model')\n",
    "display.plot(ax=ax);"
   ]
  },
  {
   "cell_type": "code",
   "execution_count": null,
   "id": "ccb0592f",
   "metadata": {},
   "outputs": [],
   "source": []
  }
 ],
 "metadata": {
  "kernelspec": {
   "display_name": "Python 3 (ipykernel)",
   "language": "python",
   "name": "python3"
  },
  "language_info": {
   "codemirror_mode": {
    "name": "ipython",
    "version": 3
   },
   "file_extension": ".py",
   "mimetype": "text/x-python",
   "name": "python",
   "nbconvert_exporter": "python",
   "pygments_lexer": "ipython3",
   "version": "3.11.3"
  }
 },
 "nbformat": 4,
 "nbformat_minor": 5
}
