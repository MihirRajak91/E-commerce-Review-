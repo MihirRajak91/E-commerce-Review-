{
 "cells": [
  {
   "cell_type": "markdown",
   "id": "cda45244",
   "metadata": {},
   "source": [
    "# Importing Pacakages"
   ]
  },
  {
   "cell_type": "code",
   "execution_count": 1,
   "id": "5429d66d",
   "metadata": {
    "scrolled": true
   },
   "outputs": [
    {
     "name": "stderr",
     "output_type": "stream",
     "text": [
      "\n",
      "[notice] A new release of pip is available: 23.3.1 -> 23.3.2\n",
      "[notice] To update, run: python.exe -m pip install --upgrade pip\n"
     ]
    },
    {
     "name": "stdout",
     "output_type": "stream",
     "text": [
      "Requirement already satisfied: nltk in c:\\users\\acer\\appdata\\roaming\\python\\python311\\site-packages (3.8.1)\n",
      "Requirement already satisfied: click in c:\\users\\acer\\appdata\\roaming\\python\\python311\\site-packages (from nltk) (8.1.7)\n",
      "Requirement already satisfied: joblib in c:\\users\\acer\\appdata\\roaming\\python\\python311\\site-packages (from nltk) (1.3.2)\n",
      "Requirement already satisfied: regex>=2021.8.3 in c:\\users\\acer\\appdata\\roaming\\python\\python311\\site-packages (from nltk) (2023.10.3)\n",
      "Requirement already satisfied: tqdm in c:\\users\\acer\\appdata\\roaming\\python\\python311\\site-packages (from nltk) (4.66.1)\n",
      "Requirement already satisfied: colorama in c:\\users\\acer\\appdata\\roaming\\python\\python311\\site-packages (from click->nltk) (0.4.6)\n"
     ]
    },
    {
     "name": "stderr",
     "output_type": "stream",
     "text": [
      "[nltk_data] Downloading package punkt to\n",
      "[nltk_data]     C:\\Users\\acer\\AppData\\Roaming\\nltk_data...\n",
      "[nltk_data]   Package punkt is already up-to-date!\n",
      "[nltk_data] Downloading package stopwords to\n",
      "[nltk_data]     C:\\Users\\acer\\AppData\\Roaming\\nltk_data...\n",
      "[nltk_data]   Package stopwords is already up-to-date!\n"
     ]
    }
   ],
   "source": [
    "#!pip install regex\n",
    "#!pip install nltk\n",
    "import numpy as np\n",
    "import pandas as pd\n",
    "import nltk\n",
    "import re,string\n",
    "import matplotlib.pyplot as plt\n",
    "from nltk.tokenize import word_tokenize\n",
    "from nltk.corpus import stopwords\n",
    "from nltk.stem import PorterStemmer\n",
    "from sklearn.feature_extraction.text import TfidfVectorizer\n",
    "from sklearn.pipeline import Pipeline\n",
    "from sklearn.metrics import classification_report, confusion_matrix\n",
    "from sklearn.model_selection import train_test_split\n",
    "from sklearn.feature_selection import SelectKBest, chi2\n",
    "import pickle\n",
    "nltk.download('punkt')\n",
    "nltk.download('stopwords')\n",
    "%matplotlib inline"
   ]
  },
  {
   "cell_type": "markdown",
   "id": "f4b8df8c",
   "metadata": {},
   "source": [
    "# Reading data"
   ]
  },
  {
   "cell_type": "code",
   "execution_count": 2,
   "id": "ec07dbaf",
   "metadata": {
    "scrolled": true
   },
   "outputs": [
    {
     "data": {
      "text/html": [
       "<div>\n",
       "<style scoped>\n",
       "    .dataframe tbody tr th:only-of-type {\n",
       "        vertical-align: middle;\n",
       "    }\n",
       "\n",
       "    .dataframe tbody tr th {\n",
       "        vertical-align: top;\n",
       "    }\n",
       "\n",
       "    .dataframe thead th {\n",
       "        text-align: right;\n",
       "    }\n",
       "</style>\n",
       "<table border=\"1\" class=\"dataframe\">\n",
       "  <thead>\n",
       "    <tr style=\"text-align: right;\">\n",
       "      <th></th>\n",
       "      <th>2</th>\n",
       "      <th>Stuning even for the non-gamer</th>\n",
       "      <th>This sound track was beautiful! It paints the senery in your mind so well I would recomend it even to people who hate vid. game music! I have played the game Chrono Cross but out of all of the games I have ever played it has the best music! It backs away from crude keyboarding and takes a fresher step with grate guitars and soulful orchestras. It would impress anyone who cares to listen! ^_^</th>\n",
       "    </tr>\n",
       "  </thead>\n",
       "  <tbody>\n",
       "    <tr>\n",
       "      <th>357225</th>\n",
       "      <td>1</td>\n",
       "      <td>Spare us.</td>\n",
       "      <td>Mixed metaphors make a mess of this. I am in t...</td>\n",
       "    </tr>\n",
       "    <tr>\n",
       "      <th>3027084</th>\n",
       "      <td>2</td>\n",
       "      <td>Maggie could live next door....</td>\n",
       "      <td>Not only do these individuals live in my homet...</td>\n",
       "    </tr>\n",
       "    <tr>\n",
       "      <th>3524403</th>\n",
       "      <td>2</td>\n",
       "      <td>Best Symphonic power metal I could find</td>\n",
       "      <td>Rhpasody is to my eyes the best power metal ba...</td>\n",
       "    </tr>\n",
       "    <tr>\n",
       "      <th>3187637</th>\n",
       "      <td>2</td>\n",
       "      <td>RJ ~ Real Life</td>\n",
       "      <td>It's one of the best cd's i have ever listened...</td>\n",
       "    </tr>\n",
       "    <tr>\n",
       "      <th>1996313</th>\n",
       "      <td>1</td>\n",
       "      <td>Well</td>\n",
       "      <td>It's somewhat worth it if only for the interes...</td>\n",
       "    </tr>\n",
       "    <tr>\n",
       "      <th>...</th>\n",
       "      <td>...</td>\n",
       "      <td>...</td>\n",
       "      <td>...</td>\n",
       "    </tr>\n",
       "    <tr>\n",
       "      <th>3316524</th>\n",
       "      <td>2</td>\n",
       "      <td>One of Miyazaki's stranger movies, but fun and...</td>\n",
       "      <td>Porco Rosso: a man with the head of a pig who'...</td>\n",
       "    </tr>\n",
       "    <tr>\n",
       "      <th>1877371</th>\n",
       "      <td>2</td>\n",
       "      <td>Good Bargain</td>\n",
       "      <td>Well I like Redbull to begin with so the price...</td>\n",
       "    </tr>\n",
       "    <tr>\n",
       "      <th>2744691</th>\n",
       "      <td>1</td>\n",
       "      <td>Thanks for the Great Advice!</td>\n",
       "      <td>I had all intentions of purchasing one of thes...</td>\n",
       "    </tr>\n",
       "    <tr>\n",
       "      <th>1152098</th>\n",
       "      <td>2</td>\n",
       "      <td>A classic acoustic set</td>\n",
       "      <td>Uriah Heep is one of the longest lasting rock ...</td>\n",
       "    </tr>\n",
       "    <tr>\n",
       "      <th>805694</th>\n",
       "      <td>1</td>\n",
       "      <td>I didn't like it</td>\n",
       "      <td>Not only did I not like this book but I resent...</td>\n",
       "    </tr>\n",
       "  </tbody>\n",
       "</table>\n",
       "<p>3599999 rows × 3 columns</p>\n",
       "</div>"
      ],
      "text/plain": [
       "         2                     Stuning even for the non-gamer  \\\n",
       "357225   1                                          Spare us.   \n",
       "3027084  2                    Maggie could live next door....   \n",
       "3524403  2            Best Symphonic power metal I could find   \n",
       "3187637  2                                     RJ ~ Real Life   \n",
       "1996313  1                                               Well   \n",
       "...     ..                                                ...   \n",
       "3316524  2  One of Miyazaki's stranger movies, but fun and...   \n",
       "1877371  2                                       Good Bargain   \n",
       "2744691  1                       Thanks for the Great Advice!   \n",
       "1152098  2                             A classic acoustic set   \n",
       "805694   1                                   I didn't like it   \n",
       "\n",
       "        This sound track was beautiful! It paints the senery in your mind so well I would recomend it even to people who hate vid. game music! I have played the game Chrono Cross but out of all of the games I have ever played it has the best music! It backs away from crude keyboarding and takes a fresher step with grate guitars and soulful orchestras. It would impress anyone who cares to listen! ^_^  \n",
       "357225   Mixed metaphors make a mess of this. I am in t...                                                                                                                                                                                                                                                                                                                                                          \n",
       "3027084  Not only do these individuals live in my homet...                                                                                                                                                                                                                                                                                                                                                          \n",
       "3524403  Rhpasody is to my eyes the best power metal ba...                                                                                                                                                                                                                                                                                                                                                          \n",
       "3187637  It's one of the best cd's i have ever listened...                                                                                                                                                                                                                                                                                                                                                          \n",
       "1996313  It's somewhat worth it if only for the interes...                                                                                                                                                                                                                                                                                                                                                          \n",
       "...                                                    ...                                                                                                                                                                                                                                                                                                                                                          \n",
       "3316524  Porco Rosso: a man with the head of a pig who'...                                                                                                                                                                                                                                                                                                                                                          \n",
       "1877371  Well I like Redbull to begin with so the price...                                                                                                                                                                                                                                                                                                                                                          \n",
       "2744691  I had all intentions of purchasing one of thes...                                                                                                                                                                                                                                                                                                                                                          \n",
       "1152098  Uriah Heep is one of the longest lasting rock ...                                                                                                                                                                                                                                                                                                                                                          \n",
       "805694   Not only did I not like this book but I resent...                                                                                                                                                                                                                                                                                                                                                          \n",
       "\n",
       "[3599999 rows x 3 columns]"
      ]
     },
     "execution_count": 2,
     "metadata": {},
     "output_type": "execute_result"
    }
   ],
   "source": [
    "df = pd.read_csv('train.csv')\n",
    "df = df.sample(frac = 1)\n",
    "df"
   ]
  },
  {
   "cell_type": "code",
   "execution_count": 3,
   "id": "b2c13430",
   "metadata": {},
   "outputs": [
    {
     "data": {
      "text/html": [
       "<div>\n",
       "<style scoped>\n",
       "    .dataframe tbody tr th:only-of-type {\n",
       "        vertical-align: middle;\n",
       "    }\n",
       "\n",
       "    .dataframe tbody tr th {\n",
       "        vertical-align: top;\n",
       "    }\n",
       "\n",
       "    .dataframe thead th {\n",
       "        text-align: right;\n",
       "    }\n",
       "</style>\n",
       "<table border=\"1\" class=\"dataframe\">\n",
       "  <thead>\n",
       "    <tr style=\"text-align: right;\">\n",
       "      <th></th>\n",
       "      <th>2</th>\n",
       "      <th>Stuning even for the non-gamer</th>\n",
       "      <th>This sound track was beautiful! It paints the senery in your mind so well I would recomend it even to people who hate vid. game music! I have played the game Chrono Cross but out of all of the games I have ever played it has the best music! It backs away from crude keyboarding and takes a fresher step with grate guitars and soulful orchestras. It would impress anyone who cares to listen! ^_^</th>\n",
       "    </tr>\n",
       "  </thead>\n",
       "  <tbody>\n",
       "    <tr>\n",
       "      <th>357225</th>\n",
       "      <td>1</td>\n",
       "      <td>Spare us.</td>\n",
       "      <td>Mixed metaphors make a mess of this. I am in t...</td>\n",
       "    </tr>\n",
       "    <tr>\n",
       "      <th>3027084</th>\n",
       "      <td>2</td>\n",
       "      <td>Maggie could live next door....</td>\n",
       "      <td>Not only do these individuals live in my homet...</td>\n",
       "    </tr>\n",
       "    <tr>\n",
       "      <th>3524403</th>\n",
       "      <td>2</td>\n",
       "      <td>Best Symphonic power metal I could find</td>\n",
       "      <td>Rhpasody is to my eyes the best power metal ba...</td>\n",
       "    </tr>\n",
       "    <tr>\n",
       "      <th>3187637</th>\n",
       "      <td>2</td>\n",
       "      <td>RJ ~ Real Life</td>\n",
       "      <td>It's one of the best cd's i have ever listened...</td>\n",
       "    </tr>\n",
       "    <tr>\n",
       "      <th>1996313</th>\n",
       "      <td>1</td>\n",
       "      <td>Well</td>\n",
       "      <td>It's somewhat worth it if only for the interes...</td>\n",
       "    </tr>\n",
       "  </tbody>\n",
       "</table>\n",
       "</div>"
      ],
      "text/plain": [
       "         2           Stuning even for the non-gamer  \\\n",
       "357225   1                                Spare us.   \n",
       "3027084  2          Maggie could live next door....   \n",
       "3524403  2  Best Symphonic power metal I could find   \n",
       "3187637  2                           RJ ~ Real Life   \n",
       "1996313  1                                     Well   \n",
       "\n",
       "        This sound track was beautiful! It paints the senery in your mind so well I would recomend it even to people who hate vid. game music! I have played the game Chrono Cross but out of all of the games I have ever played it has the best music! It backs away from crude keyboarding and takes a fresher step with grate guitars and soulful orchestras. It would impress anyone who cares to listen! ^_^  \n",
       "357225   Mixed metaphors make a mess of this. I am in t...                                                                                                                                                                                                                                                                                                                                                          \n",
       "3027084  Not only do these individuals live in my homet...                                                                                                                                                                                                                                                                                                                                                          \n",
       "3524403  Rhpasody is to my eyes the best power metal ba...                                                                                                                                                                                                                                                                                                                                                          \n",
       "3187637  It's one of the best cd's i have ever listened...                                                                                                                                                                                                                                                                                                                                                          \n",
       "1996313  It's somewhat worth it if only for the interes...                                                                                                                                                                                                                                                                                                                                                          "
      ]
     },
     "execution_count": 3,
     "metadata": {},
     "output_type": "execute_result"
    }
   ],
   "source": [
    "df.head(5)"
   ]
  },
  {
   "cell_type": "code",
   "execution_count": 4,
   "id": "468a5692",
   "metadata": {},
   "outputs": [],
   "source": [
    "df.dropna(inplace = True)"
   ]
  },
  {
   "cell_type": "code",
   "execution_count": 5,
   "id": "18eb1abf",
   "metadata": {},
   "outputs": [],
   "source": [
    "df.columns = ['Rating', 'Title', 'Review']"
   ]
  },
  {
   "cell_type": "markdown",
   "id": "8a3830d2",
   "metadata": {},
   "source": [
    "# EDA"
   ]
  },
  {
   "cell_type": "code",
   "execution_count": 6,
   "id": "f297c939",
   "metadata": {},
   "outputs": [],
   "source": [
    "df = df.sample(100_000)\n",
    "#df = df.sample(1000)"
   ]
  },
  {
   "cell_type": "code",
   "execution_count": 7,
   "id": "776d1c10",
   "metadata": {},
   "outputs": [
    {
     "data": {
      "text/plain": [
       "Rating\n",
       "2    50064\n",
       "1    49936\n",
       "Name: count, dtype: int64"
      ]
     },
     "execution_count": 7,
     "metadata": {},
     "output_type": "execute_result"
    }
   ],
   "source": [
    "df['Rating'].value_counts()"
   ]
  },
  {
   "cell_type": "code",
   "execution_count": 8,
   "id": "e0ffb0fd",
   "metadata": {},
   "outputs": [
    {
     "data": {
      "text/html": [
       "<div>\n",
       "<style scoped>\n",
       "    .dataframe tbody tr th:only-of-type {\n",
       "        vertical-align: middle;\n",
       "    }\n",
       "\n",
       "    .dataframe tbody tr th {\n",
       "        vertical-align: top;\n",
       "    }\n",
       "\n",
       "    .dataframe thead th {\n",
       "        text-align: right;\n",
       "    }\n",
       "</style>\n",
       "<table border=\"1\" class=\"dataframe\">\n",
       "  <thead>\n",
       "    <tr style=\"text-align: right;\">\n",
       "      <th></th>\n",
       "      <th>Rating</th>\n",
       "      <th>Title_review</th>\n",
       "    </tr>\n",
       "  </thead>\n",
       "  <tbody>\n",
       "    <tr>\n",
       "      <th>3288408</th>\n",
       "      <td>2</td>\n",
       "      <td>Kicks Butt I love this DVD. You can just do th...</td>\n",
       "    </tr>\n",
       "    <tr>\n",
       "      <th>3487913</th>\n",
       "      <td>2</td>\n",
       "      <td>Best Ones Out There I have looked for new cani...</td>\n",
       "    </tr>\n",
       "    <tr>\n",
       "      <th>3519231</th>\n",
       "      <td>1</td>\n",
       "      <td>If you are a Crhistie fan, don't bother After ...</td>\n",
       "    </tr>\n",
       "    <tr>\n",
       "      <th>897880</th>\n",
       "      <td>2</td>\n",
       "      <td>Great purchase! This product works! I would re...</td>\n",
       "    </tr>\n",
       "    <tr>\n",
       "      <th>2530383</th>\n",
       "      <td>2</td>\n",
       "      <td>Terrific activity toy Wonderful activity toy, ...</td>\n",
       "    </tr>\n",
       "    <tr>\n",
       "      <th>...</th>\n",
       "      <td>...</td>\n",
       "      <td>...</td>\n",
       "    </tr>\n",
       "    <tr>\n",
       "      <th>1328158</th>\n",
       "      <td>2</td>\n",
       "      <td>Perfect for the Beginning Beginner! -This is f...</td>\n",
       "    </tr>\n",
       "    <tr>\n",
       "      <th>391465</th>\n",
       "      <td>1</td>\n",
       "      <td>Ordered new, received used. I ordered this DVD...</td>\n",
       "    </tr>\n",
       "    <tr>\n",
       "      <th>1719223</th>\n",
       "      <td>1</td>\n",
       "      <td>Me-ism This book wasn't worth my time. Kind of...</td>\n",
       "    </tr>\n",
       "    <tr>\n",
       "      <th>2933903</th>\n",
       "      <td>2</td>\n",
       "      <td>Prevails over the Mic on the Logitech Webcam! ...</td>\n",
       "    </tr>\n",
       "    <tr>\n",
       "      <th>244342</th>\n",
       "      <td>2</td>\n",
       "      <td>Nice Album I give this 5 stars for substance; ...</td>\n",
       "    </tr>\n",
       "  </tbody>\n",
       "</table>\n",
       "<p>100000 rows × 2 columns</p>\n",
       "</div>"
      ],
      "text/plain": [
       "         Rating                                       Title_review\n",
       "3288408       2  Kicks Butt I love this DVD. You can just do th...\n",
       "3487913       2  Best Ones Out There I have looked for new cani...\n",
       "3519231       1  If you are a Crhistie fan, don't bother After ...\n",
       "897880        2  Great purchase! This product works! I would re...\n",
       "2530383       2  Terrific activity toy Wonderful activity toy, ...\n",
       "...         ...                                                ...\n",
       "1328158       2  Perfect for the Beginning Beginner! -This is f...\n",
       "391465        1  Ordered new, received used. I ordered this DVD...\n",
       "1719223       1  Me-ism This book wasn't worth my time. Kind of...\n",
       "2933903       2  Prevails over the Mic on the Logitech Webcam! ...\n",
       "244342        2  Nice Album I give this 5 stars for substance; ...\n",
       "\n",
       "[100000 rows x 2 columns]"
      ]
     },
     "execution_count": 8,
     "metadata": {},
     "output_type": "execute_result"
    }
   ],
   "source": [
    "df[\"Title_review\"] = df['Title'] + \" \" + df['Review']\n",
    "df = df.drop(['Title','Review'], axis=1)\n",
    "df"
   ]
  },
  {
   "cell_type": "code",
   "execution_count": 9,
   "id": "08cda339",
   "metadata": {},
   "outputs": [
    {
     "name": "stdout",
     "output_type": "stream",
     "text": [
      "<class 'pandas.core.frame.DataFrame'>\n",
      "Index: 100000 entries, 3288408 to 244342\n",
      "Data columns (total 2 columns):\n",
      " #   Column        Non-Null Count   Dtype \n",
      "---  ------        --------------   ----- \n",
      " 0   Rating        100000 non-null  int64 \n",
      " 1   Title_review  100000 non-null  object\n",
      "dtypes: int64(1), object(1)\n",
      "memory usage: 2.3+ MB\n"
     ]
    }
   ],
   "source": [
    "df.info()"
   ]
  },
  {
   "cell_type": "code",
   "execution_count": 10,
   "id": "9aaffeaf",
   "metadata": {},
   "outputs": [
    {
     "data": {
      "image/png": "[encoded data removed]",
      "text/plain": [
       "<Figure size 640x480 with 1 Axes>"
      ]
     },
     "metadata": {},
     "output_type": "display_data"
    }
   ],
   "source": [
    "# Analyzing data \n",
    "df.groupby('Rating').Rating.count().plot.bar()\n",
    "plt.show()"
   ]
  },
  {
   "cell_type": "markdown",
   "id": "8f8e21aa",
   "metadata": {},
   "source": [
    "# Data Preprocessing"
   ]
  },
  {
   "cell_type": "code",
   "execution_count": 11,
   "id": "d480be1c",
   "metadata": {},
   "outputs": [
    {
     "name": "stdout",
     "output_type": "stream",
     "text": [
      "['i', 'me', 'my', 'myself', 'we', 'our', 'ours', 'ourselves', 'you', \"you're\", \"you've\", \"you'll\", \"you'd\", 'your', 'yours', 'yourself', 'yourselves', 'he', 'him', 'his', 'himself', 'she', \"she's\", 'her', 'hers', 'herself', 'it', \"it's\", 'its', 'itself', 'they', 'them', 'their', 'theirs', 'themselves', 'what', 'which', 'who', 'whom', 'this', 'that', \"that'll\", 'these', 'those', 'am', 'is', 'are', 'was', 'were', 'be', 'been', 'being', 'have', 'has', 'had', 'having', 'do', 'does', 'did', 'doing', 'a', 'an', 'the', 'and', 'but', 'if', 'or', 'because', 'as', 'until', 'while', 'of', 'at', 'by', 'for', 'with', 'about', 'against', 'between', 'into', 'through', 'during', 'before', 'after', 'above', 'below', 'to', 'from', 'up', 'down', 'in', 'out', 'on', 'off', 'over', 'under', 'again', 'further', 'then', 'once', 'here', 'there', 'when', 'where', 'why', 'how', 'all', 'any', 'both', 'each', 'few', 'more', 'most', 'other', 'some', 'such', 'no', 'nor', 'not', 'only', 'own', 'same', 'so', 'than', 'too', 'very', 's', 't', 'can', 'will', 'just', 'don', \"don't\", 'should', \"should've\", 'now', 'd', 'll', 'm', 'o', 're', 've', 'y', 'ain', 'aren', \"aren't\", 'couldn', \"couldn't\", 'didn', \"didn't\", 'doesn', \"doesn't\", 'hadn', \"hadn't\", 'hasn', \"hasn't\", 'haven', \"haven't\", 'isn', \"isn't\", 'ma', 'mightn', \"mightn't\", 'mustn', \"mustn't\", 'needn', \"needn't\", 'shan', \"shan't\", 'shouldn', \"shouldn't\", 'wasn', \"wasn't\", 'weren', \"weren't\", 'won', \"won't\", 'wouldn', \"wouldn't\"]\n"
     ]
    },
    {
     "name": "stderr",
     "output_type": "stream",
     "text": [
      "[nltk_data] Downloading package stopwords to\n",
      "[nltk_data]     C:\\Users\\acer\\AppData\\Roaming\\nltk_data...\n",
      "[nltk_data]   Package stopwords is already up-to-date!\n"
     ]
    }
   ],
   "source": [
    "#stop words\n",
    "nltk.download('stopwords')\n",
    "stop_words = stopwords.words(\"english\")\n",
    "print(stop_words)"
   ]
  },
  {
   "cell_type": "code",
   "execution_count": 12,
   "id": "4e7698b6",
   "metadata": {},
   "outputs": [
    {
     "name": "stdout",
     "output_type": "stream",
     "text": [
      "Index(['Rating', 'Title_review'], dtype='object')\n"
     ]
    }
   ],
   "source": [
    "print(df.columns)"
   ]
  },
  {
   "cell_type": "code",
   "execution_count": 13,
   "id": "fb8a965a",
   "metadata": {},
   "outputs": [
    {
     "data": {
      "text/plain": [
       "\"Kicks Butt I love this DVD. You can just do the warmup (which does get the blood moving), 1st workout, and cooldown (good for beginners)or do the whole routine for a more intense workout. Either way you definately will feel your lower half the next day! Kathy gives good instruction and the moves are easy to follow. It also feels like an aerobic workout as well with the flow from one set of movements to the next. For those of you who don't like to exercise (like me) you will love how fast it goes. Just when I think I can't do anymore. . .it's over!\""
      ]
     },
     "execution_count": 13,
     "metadata": {},
     "output_type": "execute_result"
    }
   ],
   "source": [
    "df['Title_review'].iloc[0]"
   ]
  },
  {
   "cell_type": "code",
   "execution_count": 14,
   "id": "47c82062",
   "metadata": {},
   "outputs": [],
   "source": [
    "# Data Cleaning using stemmer\n",
    "stemmer = PorterStemmer()\n",
    "def preprocess_text(text):\n",
    "    text = re.sub(r'[^\\w\\s]', '', text)\n",
    "    words = word_tokenize(text)\n",
    "    filtered_words = [stemmer.stem(word) for word in words if word.lower() not in stop_words]\n",
    "    return ' '.join(filtered_words)\n",
    "\n",
    "df['processed_text_column'] = df['Title_review'].apply(preprocess_text)"
   ]
  },
  {
   "cell_type": "code",
   "execution_count": 15,
   "id": "d4dbbaef",
   "metadata": {},
   "outputs": [],
   "source": [
    "df = df.drop(['Title_review'], axis=1)"
   ]
  },
  {
   "cell_type": "code",
   "execution_count": 16,
   "id": "858305bc",
   "metadata": {},
   "outputs": [
    {
     "data": {
      "text/html": [
       "<div>\n",
       "<style scoped>\n",
       "    .dataframe tbody tr th:only-of-type {\n",
       "        vertical-align: middle;\n",
       "    }\n",
       "\n",
       "    .dataframe tbody tr th {\n",
       "        vertical-align: top;\n",
       "    }\n",
       "\n",
       "    .dataframe thead th {\n",
       "        text-align: right;\n",
       "    }\n",
       "</style>\n",
       "<table border=\"1\" class=\"dataframe\">\n",
       "  <thead>\n",
       "    <tr style=\"text-align: right;\">\n",
       "      <th></th>\n",
       "      <th>Rating</th>\n",
       "      <th>processed_text_column</th>\n",
       "    </tr>\n",
       "  </thead>\n",
       "  <tbody>\n",
       "    <tr>\n",
       "      <th>3288408</th>\n",
       "      <td>2</td>\n",
       "      <td>kick butt love dvd warmup get blood move 1st w...</td>\n",
       "    </tr>\n",
       "    <tr>\n",
       "      <th>3487913</th>\n",
       "      <td>2</td>\n",
       "      <td>best one look new canist two year allclad set ...</td>\n",
       "    </tr>\n",
       "    <tr>\n",
       "      <th>3519231</th>\n",
       "      <td>1</td>\n",
       "      <td>crhisti fan dont bother thrill new titl hope l...</td>\n",
       "    </tr>\n",
       "    <tr>\n",
       "      <th>897880</th>\n",
       "      <td>2</td>\n",
       "      <td>great purchas product work would recommend mom...</td>\n",
       "    </tr>\n",
       "    <tr>\n",
       "      <th>2530383</th>\n",
       "      <td>2</td>\n",
       "      <td>terrif activ toy wonder activ toy son spend ti...</td>\n",
       "    </tr>\n",
       "    <tr>\n",
       "      <th>...</th>\n",
       "      <td>...</td>\n",
       "      <td>...</td>\n",
       "    </tr>\n",
       "    <tr>\n",
       "      <th>1328158</th>\n",
       "      <td>2</td>\n",
       "      <td>perfect begin beginn beginn yet begin lol buy ...</td>\n",
       "    </tr>\n",
       "    <tr>\n",
       "      <th>391465</th>\n",
       "      <td>1</td>\n",
       "      <td>order new receiv use order dvd pay littl want ...</td>\n",
       "    </tr>\n",
       "    <tr>\n",
       "      <th>1719223</th>\n",
       "      <td>1</td>\n",
       "      <td>meism book wasnt worth time kind remind tbn te...</td>\n",
       "    </tr>\n",
       "    <tr>\n",
       "      <th>2933903</th>\n",
       "      <td>2</td>\n",
       "      <td>prevail mic logitech webcam purchas logitech u...</td>\n",
       "    </tr>\n",
       "    <tr>\n",
       "      <th>244342</th>\n",
       "      <td>2</td>\n",
       "      <td>nice album give 5 star substanc mani rocker qu...</td>\n",
       "    </tr>\n",
       "  </tbody>\n",
       "</table>\n",
       "<p>100000 rows × 2 columns</p>\n",
       "</div>"
      ],
      "text/plain": [
       "         Rating                              processed_text_column\n",
       "3288408       2  kick butt love dvd warmup get blood move 1st w...\n",
       "3487913       2  best one look new canist two year allclad set ...\n",
       "3519231       1  crhisti fan dont bother thrill new titl hope l...\n",
       "897880        2  great purchas product work would recommend mom...\n",
       "2530383       2  terrif activ toy wonder activ toy son spend ti...\n",
       "...         ...                                                ...\n",
       "1328158       2  perfect begin beginn beginn yet begin lol buy ...\n",
       "391465        1  order new receiv use order dvd pay littl want ...\n",
       "1719223       1  meism book wasnt worth time kind remind tbn te...\n",
       "2933903       2  prevail mic logitech webcam purchas logitech u...\n",
       "244342        2  nice album give 5 star substanc mani rocker qu...\n",
       "\n",
       "[100000 rows x 2 columns]"
      ]
     },
     "execution_count": 16,
     "metadata": {},
     "output_type": "execute_result"
    }
   ],
   "source": [
    "df"
   ]
  },
  {
   "cell_type": "code",
   "execution_count": 17,
   "id": "c03d3957",
   "metadata": {},
   "outputs": [],
   "source": [
    "df.head(5)\n",
    "df.to_csv('cleaned_test.csv')"
   ]
  },
  {
   "cell_type": "code",
   "execution_count": 18,
   "id": "9d0290b0",
   "metadata": {},
   "outputs": [],
   "source": [
    "# Training model"
   ]
  },
  {
   "cell_type": "code",
   "execution_count": 19,
   "id": "5e4f8405",
   "metadata": {},
   "outputs": [],
   "source": [
    "# Training model\n",
    "\n",
    "from sklearn.linear_model import LogisticRegression\n",
    "log_regression = LogisticRegression()\n",
    "\n",
    "vectorizer = TfidfVectorizer()\n",
    "X = df['processed_text_column']\n",
    "Y = df['Rating']\n",
    "\n",
    "X_train, X_test, y_train, y_test = train_test_split(X, Y, test_size=0.15)\n",
    "\n",
    "#Pipeline\n",
    "pipeline = Pipeline([('vect', vectorizer),\n",
    "                     ('chi',  SelectKBest(chi2, k=2000)),\n",
    "                     ('clf', LogisticRegression())])\n",
    "model = pipeline.fit(X, Y)"
   ]
  },
  {
   "cell_type": "code",
   "execution_count": 20,
   "id": "af7a7c13",
   "metadata": {},
   "outputs": [
    {
     "name": "stdout",
     "output_type": "stream",
     "text": [
      "0.8777333333333334\n"
     ]
    }
   ],
   "source": [
    "#Accuracy\n",
    "from sklearn.metrics import accuracy_score\n",
    "predict_rating = model.predict(X_test)\n",
    "print(accuracy_score(y_test,predict_rating))"
   ]
  },
  {
   "cell_type": "code",
   "execution_count": 26,
   "id": "bcc659b7",
   "metadata": {},
   "outputs": [
    {
     "name": "stdout",
     "output_type": "stream",
     "text": [
      "Enter review = worst\n",
      "Predicted rating  =  [1]\n"
     ]
    }
   ],
   "source": [
    "review = input(\"Enter review = \")\n",
    "review_data = {'predict_rating':[review]}\n",
    "review_data_df = pd.DataFrame(review_data)\n",
    "predict_data_cat = model.predict(review_data_df['predict_rating'])\n",
    "print(\"Predicted rating  = \",predict_data_cat)"
   ]
  },
  {
   "cell_type": "code",
   "execution_count": 23,
   "id": "e0e3e7f4",
   "metadata": {},
   "outputs": [
    {
     "name": "stdout",
     "output_type": "stream",
     "text": [
      "              precision    recall  f1-score   support\n",
      "\n",
      "           1       0.88      0.87      0.88      7487\n",
      "           2       0.87      0.89      0.88      7513\n",
      "\n",
      "    accuracy                           0.88     15000\n",
      "   macro avg       0.88      0.88      0.88     15000\n",
      "weighted avg       0.88      0.88      0.88     15000\n",
      "\n",
      "[[6509  856]\n",
      " [ 978 6657]]\n"
     ]
    }
   ],
   "source": [
    "# confusion matrix and classification report(precision, recall, F1-score)\n",
    "ytest = np.array(y_test)\n",
    "print(classification_report(ytest,model.predict(X_test)))\n",
    "print(confusion_matrix(model.predict(X_test),ytest))"
   ]
  },
  {
   "cell_type": "code",
   "execution_count": 24,
   "id": "7201a90e",
   "metadata": {},
   "outputs": [
    {
     "data": {
      "image/png": "[encoded data removed]",
      "text/plain": [
       "<Figure size 800x800 with 2 Axes>"
      ]
     },
     "metadata": {},
     "output_type": "display_data"
    }
   ],
   "source": [
    "import matplotlib.pyplot as plt\n",
    "from sklearn.metrics import ConfusionMatrixDisplay\n",
    "cm = confusion_matrix(model.predict(X_test),ytest)\n",
    "fig, ax = plt.subplots(figsize=(8,8), dpi=100)\n",
    "class_names = ['1','2']\n",
    "display = ConfusionMatrixDisplay(cm, display_labels=class_names)\n",
    "ax.set(title='Confusion Matrix for the  Text Classification Model')\n",
    "display.plot(ax=ax);"
   ]
  },
  {
   "cell_type": "code",
   "execution_count": null,
   "id": "ccb0592f",
   "metadata": {},
   "outputs": [],
   "source": []
  }
 ],
 "metadata": {
  "kernelspec": {
   "display_name": "Python 3 (ipykernel)",
   "language": "python",
   "name": "python3"
  },
  "language_info": {
   "codemirror_mode": {
    "name": "ipython",
    "version": 3
   },
   "file_extension": ".py",
   "mimetype": "text/x-python",
   "name": "python",
   "nbconvert_exporter": "python",
   "pygments_lexer": "ipython3",
   "version": "3.11.5"
  }
 },
 "nbformat": 4,
 "nbformat_minor": 5
}
